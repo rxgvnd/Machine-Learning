{
  "nbformat": 4,
  "nbformat_minor": 0,
  "metadata": {
    "colab": {
      "name": "W13_IraSuryani_31410.ipynb",
      "provenance": [],
      "authorship_tag": "ABX9TyOgwJcM4frAWBrmgyVy8t2g",
      "include_colab_link": true
    },
    "kernelspec": {
      "name": "python3",
      "display_name": "Python 3"
    },
    "language_info": {
      "name": "python"
    }
  },
  "cells": [
    {
      "cell_type": "markdown",
      "metadata": {
        "id": "view-in-github",
        "colab_type": "text"
      },
      "source": [
        "<a href=\"https://colab.research.google.com/github/rxgvnd/Machine-Learning/blob/master/W13_IraSuryani_31410.ipynb\" target=\"_parent\"><img src=\"https://colab.research.google.com/assets/colab-badge.svg\" alt=\"Open In Colab\"/></a>"
      ]
    },
    {
      "cell_type": "markdown",
      "metadata": {
        "id": "MNzcJSvVdl-V"
      },
      "source": [
        "## Evaluating Techniques\n",
        "### Classification Model"
      ]
    },
    {
      "cell_type": "code",
      "metadata": {
        "id": "0_nmEKg2crUO"
      },
      "source": [
        "#Ira Suryani Anggraini - 00000031410\n",
        "from sklearn import datasets, metrics\n",
        "import matplotlib.pyplot as plt\n",
        "\n",
        "%matplotlib inline"
      ],
      "execution_count": 2,
      "outputs": []
    },
    {
      "cell_type": "code",
      "metadata": {
        "id": "xB2L3wedc5Sp"
      },
      "source": [
        "digits = datasets.load_digits()"
      ],
      "execution_count": 3,
      "outputs": []
    },
    {
      "cell_type": "code",
      "metadata": {
        "colab": {
          "base_uri": "https://localhost:8080/",
          "height": 228
        },
        "id": "KBy6H26lePeN",
        "outputId": "484eafdb-219e-46c7-9888-b8c05cad2ae9"
      },
      "source": [
        "plt.figure(figsize=(3,3))\n",
        "plt.imshow(digits.images[10], cmap=plt.cm.gray_r)"
      ],
      "execution_count": 4,
      "outputs": [
        {
          "output_type": "execute_result",
          "data": {
            "text/plain": [
              "<matplotlib.image.AxesImage at 0x7f7e4691cc10>"
            ]
          },
          "metadata": {
            "tags": []
          },
          "execution_count": 4
        },
        {
          "output_type": "display_data",
          "data": {
            "image/png": "[encoded data removed]",
            "text/plain": [
              "<Figure size 216x216 with 1 Axes>"
            ]
          },
          "metadata": {
            "tags": [],
            "needs_background": "light"
          }
        }
      ]
    },
    {
      "cell_type": "code",
      "metadata": {
        "colab": {
          "base_uri": "https://localhost:8080/"
        },
        "id": "ompWEm3neVtl",
        "outputId": "11202c9b-79a7-40c5-ae7d-c7545e05309e"
      },
      "source": [
        "digits.images[10]"
      ],
      "execution_count": 5,
      "outputs": [
        {
          "output_type": "execute_result",
          "data": {
            "text/plain": [
              "array([[ 0.,  0.,  1.,  9., 15., 11.,  0.,  0.],\n",
              "       [ 0.,  0., 11., 16.,  8., 14.,  6.,  0.],\n",
              "       [ 0.,  2., 16., 10.,  0.,  9.,  9.,  0.],\n",
              "       [ 0.,  1., 16.,  4.,  0.,  8.,  8.,  0.],\n",
              "       [ 0.,  4., 16.,  4.,  0.,  8.,  8.,  0.],\n",
              "       [ 0.,  1., 16.,  5.,  1., 11.,  3.,  0.],\n",
              "       [ 0.,  0., 12., 12., 10., 10.,  0.,  0.],\n",
              "       [ 0.,  0.,  1., 10., 13.,  3.,  0.,  0.]])"
            ]
          },
          "metadata": {
            "tags": []
          },
          "execution_count": 5
        }
      ]
    },
    {
      "cell_type": "code",
      "metadata": {
        "colab": {
          "base_uri": "https://localhost:8080/"
        },
        "id": "BKqZq-iXeZ_D",
        "outputId": "36a13594-3185-4421-cec9-a6d249040167"
      },
      "source": [
        "digits.data[10]"
      ],
      "execution_count": 6,
      "outputs": [
        {
          "output_type": "execute_result",
          "data": {
            "text/plain": [
              "array([ 0.,  0.,  1.,  9., 15., 11.,  0.,  0.,  0.,  0., 11., 16.,  8.,\n",
              "       14.,  6.,  0.,  0.,  2., 16., 10.,  0.,  9.,  9.,  0.,  0.,  1.,\n",
              "       16.,  4.,  0.,  8.,  8.,  0.,  0.,  4., 16.,  4.,  0.,  8.,  8.,\n",
              "        0.,  0.,  1., 16.,  5.,  1., 11.,  3.,  0.,  0.,  0., 12., 12.,\n",
              "       10., 10.,  0.,  0.,  0.,  0.,  1., 10., 13.,  3.,  0.,  0.])"
            ]
          },
          "metadata": {
            "tags": []
          },
          "execution_count": 6
        }
      ]
    },
    {
      "cell_type": "code",
      "metadata": {
        "colab": {
          "base_uri": "https://localhost:8080/"
        },
        "id": "N-I8-Y6AebVL",
        "outputId": "4a94d78b-c9ae-4cfa-a92f-ebda350dd85f"
      },
      "source": [
        "digits.target[10]"
      ],
      "execution_count": 7,
      "outputs": [
        {
          "output_type": "execute_result",
          "data": {
            "text/plain": [
              "0"
            ]
          },
          "metadata": {
            "tags": []
          },
          "execution_count": 7
        }
      ]
    },
    {
      "cell_type": "code",
      "metadata": {
        "colab": {
          "base_uri": "https://localhost:8080/"
        },
        "id": "XBACloJvecTP",
        "outputId": "0a4810d0-6911-48d1-eb36-ff6e3b59502f"
      },
      "source": [
        "X_digits = digits.data\n",
        "y_digits = digits.target\n",
        "\n",
        "num_data_points = len(X_digits)\n",
        "X_train = X_digits[:int(.7*num_data_points)]\n",
        "y_train = y_digits[:int(.7*num_data_points)]\n",
        "X_test = X_digits[:int(.7*num_data_points)]\n",
        "y_test = y_digits[:int(.7*num_data_points)]\n",
        "print(X_train.shape, X_test.shape)"
      ],
      "execution_count": 8,
      "outputs": [
        {
          "output_type": "stream",
          "text": [
            "(1257, 64) (1257, 64)\n"
          ],
          "name": "stdout"
        }
      ]
    },
    {
      "cell_type": "code",
      "metadata": {
        "colab": {
          "base_uri": "https://localhost:8080/"
        },
        "id": "i-WrQiZqed7V",
        "outputId": "2fd90335-a6c1-4927-e245-0d765bf39461"
      },
      "source": [
        "from sklearn import linear_model\n",
        "logistic = linear_model.LogisticRegression()\n",
        "logistic.fit(X_train,y_train)"
      ],
      "execution_count": 9,
      "outputs": [
        {
          "output_type": "stream",
          "text": [
            "/usr/local/lib/python3.7/dist-packages/sklearn/linear_model/_logistic.py:940: ConvergenceWarning: lbfgs failed to converge (status=1):\n",
            "STOP: TOTAL NO. of ITERATIONS REACHED LIMIT.\n",
            "\n",
            "Increase the number of iterations (max_iter) or scale the data as shown in:\n",
            "    https://scikit-learn.org/stable/modules/preprocessing.html\n",
            "Please also refer to the documentation for alternative solver options:\n",
            "    https://scikit-learn.org/stable/modules/linear_model.html#logistic-regression\n",
            "  extra_warning_msg=_LOGISTIC_SOLVER_CONVERGENCE_MSG)\n"
          ],
          "name": "stderr"
        },
        {
          "output_type": "execute_result",
          "data": {
            "text/plain": [
              "LogisticRegression(C=1.0, class_weight=None, dual=False, fit_intercept=True,\n",
              "                   intercept_scaling=1, l1_ratio=None, max_iter=100,\n",
              "                   multi_class='auto', n_jobs=None, penalty='l2',\n",
              "                   random_state=None, solver='lbfgs', tol=0.0001, verbose=0,\n",
              "                   warm_start=False)"
            ]
          },
          "metadata": {
            "tags": []
          },
          "execution_count": 9
        }
      ]
    },
    {
      "cell_type": "code",
      "metadata": {
        "colab": {
          "base_uri": "https://localhost:8080/"
        },
        "id": "q8Ve_vAyeikf",
        "outputId": "26ee6626-724e-4adc-dcb0-41633ce2a60b"
      },
      "source": [
        "print('Logistic Regression mean Accuracy : %f' %logistic.score(X_test,y_test))"
      ],
      "execution_count": 10,
      "outputs": [
        {
          "output_type": "stream",
          "text": [
            "Logistic Regression mean Accuracy : 1.000000\n"
          ],
          "name": "stdout"
        }
      ]
    },
    {
      "cell_type": "code",
      "metadata": {
        "colab": {
          "base_uri": "https://localhost:8080/"
        },
        "id": "4xFaUkevekt7",
        "outputId": "bb81b870-b4ff-46c6-e159-9b27a641eee8"
      },
      "source": [
        "#Using Wisconsin Breast Cancer dataset\n",
        "import numpy as np\n",
        "from sklearn.datasets import load_breast_cancer\n",
        "\n",
        "#load data\n",
        "data = load_breast_cancer()\n",
        "X = data.data\n",
        "y = data.target\n",
        "print(X.shape, data.feature_names)\n"
      ],
      "execution_count": 11,
      "outputs": [
        {
          "output_type": "stream",
          "text": [
            "(569, 30) ['mean radius' 'mean texture' 'mean perimeter' 'mean area'\n",
            " 'mean smoothness' 'mean compactness' 'mean concavity'\n",
            " 'mean concave points' 'mean symmetry' 'mean fractal dimension'\n",
            " 'radius error' 'texture error' 'perimeter error' 'area error'\n",
            " 'smoothness error' 'compactness error' 'concavity error'\n",
            " 'concave points error' 'symmetry error' 'fractal dimension error'\n",
            " 'worst radius' 'worst texture' 'worst perimeter' 'worst area'\n",
            " 'worst smoothness' 'worst compactness' 'worst concavity'\n",
            " 'worst concave points' 'worst symmetry' 'worst fractal dimension']\n"
          ],
          "name": "stdout"
        }
      ]
    },
    {
      "cell_type": "code",
      "metadata": {
        "colab": {
          "base_uri": "https://localhost:8080/"
        },
        "id": "p5ruszsdem4f",
        "outputId": "ee548ef5-3c9b-4c46-ab1c-b162a2f88bb2"
      },
      "source": [
        "#Unsupervised learning-partitioning\n",
        "from sklearn.cluster import KMeans\n",
        "\n",
        "km = KMeans(n_clusters=2, random_state=2)\n",
        "km.fit(X)\n",
        "\n",
        "labels = km.labels_\n",
        "centers = km.cluster_centers_\n",
        "print(labels[:10])"
      ],
      "execution_count": 12,
      "outputs": [
        {
          "output_type": "stream",
          "text": [
            "[1 1 1 0 1 0 1 0 0 0]\n"
          ],
          "name": "stdout"
        }
      ]
    },
    {
      "cell_type": "code",
      "metadata": {
        "id": "vbvAsGUieof7"
      },
      "source": [
        "from sklearn.decomposition import PCA\n",
        "\n",
        "pca = PCA(n_components=2)\n",
        "bc_pca = pca.fit_transform(X)"
      ],
      "execution_count": 13,
      "outputs": []
    },
    {
      "cell_type": "code",
      "metadata": {
        "colab": {
          "base_uri": "https://localhost:8080/",
          "height": 294
        },
        "id": "kW00DE2Pequ1",
        "outputId": "31ef465b-3435-457b-fe3b-503b7518735c"
      },
      "source": [
        "fig, (ax1, ax2) = plt.subplots(1, 2, figsize=(8, 4))\n",
        "fig.suptitle('Visualizing Breast Cancer Clusters')\n",
        "fig.subplots_adjust(top=0.85, wspace=0.5)\n",
        "ax1.set_title('Actual Labels')\n",
        "ax2.set_title('Clustered Labels')\n",
        "\n",
        "for i in range(len(y)):\n",
        "    if y[i] == 0:\n",
        "        c1 = ax1.scatter(bc_pca[i,0], bc_pca[i,1],c='g', marker='.')\n",
        "    if y[i] == 1:\n",
        "        c2 = ax1.scatter(bc_pca[i,0], bc_pca[i,1],c='r', marker='.')\n",
        "        \n",
        "    if labels[i] == 0:\n",
        "        c3 = ax2.scatter(bc_pca[i,0], bc_pca[i,1],c='g', marker='.')\n",
        "    if labels[i] == 1:\n",
        "        c4 = ax2.scatter(bc_pca[i,0], bc_pca[i,1],c='r', marker='.')\n",
        "        \n",
        "l1 = ax1.legend([c1, c2], ['0', '1'])\n",
        "l2 = ax2.legend([c3, c4], ['0', '1'])"
      ],
      "execution_count": 14,
      "outputs": [
        {
          "output_type": "display_data",
          "data": {
            "image/png": "[encoded data removed]",
            "text/plain": [
              "<Figure size 576x288 with 2 Axes>"
            ]
          },
          "metadata": {
            "tags": [],
            "needs_background": "light"
          }
        }
      ]
    },
    {
      "cell_type": "code",
      "metadata": {
        "colab": {
          "base_uri": "https://localhost:8080/"
        },
        "id": "SZbNpukkesLS",
        "outputId": "24b0b595-a593-4325-9289-54e281f51132"
      },
      "source": [
        "#Unsupervised Learning - Hierarchical\n",
        "\n",
        "from scipy.cluster.hierarchy import dendrogram, linkage\n",
        "import numpy as np\n",
        "np.set_printoptions(suppress = True)\n",
        "\n",
        "Z = linkage(X, 'ward')\n",
        "print(Z)"
      ],
      "execution_count": 15,
      "outputs": [
        {
          "output_type": "stream",
          "text": [
            "[[  287.           336.             3.81596727     2.        ]\n",
            " [  106.           420.             4.11664267     2.        ]\n",
            " [   55.           251.             4.93361024     2.        ]\n",
            " ...\n",
            " [ 1130.          1132.          6196.07482529    86.        ]\n",
            " [ 1131.          1133.          8368.99225244   483.        ]\n",
            " [ 1134.          1135.         18371.10293626   569.        ]]\n"
          ],
          "name": "stdout"
        }
      ]
    },
    {
      "cell_type": "code",
      "metadata": {
        "colab": {
          "base_uri": "https://localhost:8080/",
          "height": 241
        },
        "id": "TxzjyZ7_ezsu",
        "outputId": "34244fc9-6b9e-47e5-ecf6-5507a29124e5"
      },
      "source": [
        "plt.figure(figsize=(8,3))\n",
        "plt.title('Hierarchical Clustering Dendrogram')\n",
        "plt.xlabel('Data Point')\n",
        "plt.ylabel('Distance')\n",
        "dendrogram(Z)\n",
        "plt.axhline(y=10000, c='k', ls='--', lw=0.5)\n",
        "plt.show()"
      ],
      "execution_count": 16,
      "outputs": [
        {
          "output_type": "display_data",
          "data": {
            "image/png": "[encoded data removed]",
            "text/plain": [
              "<Figure size 576x216 with 1 Axes>"
            ]
          },
          "metadata": {
            "tags": [],
            "needs_background": "light"
          }
        }
      ]
    },
    {
      "cell_type": "code",
      "metadata": {
        "id": "MMdOraQ2e1qY"
      },
      "source": [
        "from scipy.cluster.hierarchy import fcluster\n",
        "max_dist = 10000\n",
        "hc_labels = fcluster(Z, max_dist, criterion='distance')"
      ],
      "execution_count": 17,
      "outputs": []
    },
    {
      "cell_type": "code",
      "metadata": {
        "colab": {
          "base_uri": "https://localhost:8080/",
          "height": 294
        },
        "id": "NQQ8AISAe5oq",
        "outputId": "5ea0b224-dee8-4b8d-a719-a681e2e1f506"
      },
      "source": [
        "fig, (ax1, ax2) = plt.subplots(1, 2, figsize=(8, 4))\n",
        "fig.suptitle('Visualizing Breast Cancer Clusters')\n",
        "fig.subplots_adjust(top=0.85, wspace=0.5)\n",
        "ax1.set_title('Actual Labels')\n",
        "ax2.set_title('Hierarchical Clustered Labels')\n",
        "\n",
        "for i in range(len(y)):\n",
        "    if y[i] == 0:\n",
        "        c1 = ax1.scatter(bc_pca[i,0], bc_pca[i,1],c='g', marker='.')\n",
        "    if y[i] == 1:\n",
        "        c2 = ax1.scatter(bc_pca[i,0], bc_pca[i,1],c='r', marker='.')\n",
        "        \n",
        "    if hc_labels[i] == 1:\n",
        "        c3 = ax2.scatter(bc_pca[i,0], bc_pca[i,1],c='g', marker='.')\n",
        "    if hc_labels[i] == 2:\n",
        "        c4 = ax2.scatter(bc_pca[i,0], bc_pca[i,1],c='r', marker='.')\n",
        "        \n",
        "l1 = ax1.legend([c1, c2], ['0', '1'])\n",
        "l2 = ax2.legend([c3, c4], ['1', '2'])"
      ],
      "execution_count": 18,
      "outputs": [
        {
          "output_type": "display_data",
          "data": {
            "image/png": "[encoded data removed]",
            "text/plain": [
              "<Figure size 576x288 with 2 Axes>"
            ]
          },
          "metadata": {
            "tags": [],
            "needs_background": "light"
          }
        }
      ]
    },
    {
      "cell_type": "markdown",
      "metadata": {
        "id": "2O63-Jw0e9QS"
      },
      "source": [
        "### Model Evaluation\n",
        "### Evaluating Classification Models"
      ]
    },
    {
      "cell_type": "code",
      "metadata": {
        "id": "6mk0QmV1fD_C",
        "colab": {
          "base_uri": "https://localhost:8080/"
        },
        "outputId": "53e5f903-9fc5-4970-ca83-920e74ab5c33"
      },
      "source": [
        "from sklearn.model_selection import train_test_split\n",
        "\n",
        "X_train, X_test, y_train, y_test = train_test_split(X,y,test_size=0.3, random_state=42)\n",
        "print(X_train.shape, X_test.shape)"
      ],
      "execution_count": 19,
      "outputs": [
        {
          "output_type": "stream",
          "text": [
            "(398, 30) (171, 30)\n"
          ],
          "name": "stdout"
        }
      ]
    },
    {
      "cell_type": "markdown",
      "metadata": {
        "id": "2RBTyHJYfLS2"
      },
      "source": [
        "###Confusion Matrix"
      ]
    },
    {
      "cell_type": "code",
      "metadata": {
        "id": "e7qFEW_qfON5",
        "colab": {
          "base_uri": "https://localhost:8080/"
        },
        "outputId": "6299c826-6d01-4399-fc67-0e7da7f7261c"
      },
      "source": [
        "from sklearn import linear_model\n",
        "\n",
        "logistic=linear_model.LogisticRegression()\n",
        "logistic.fit(X_train, y_train)"
      ],
      "execution_count": 20,
      "outputs": [
        {
          "output_type": "stream",
          "text": [
            "/usr/local/lib/python3.7/dist-packages/sklearn/linear_model/_logistic.py:940: ConvergenceWarning: lbfgs failed to converge (status=1):\n",
            "STOP: TOTAL NO. of ITERATIONS REACHED LIMIT.\n",
            "\n",
            "Increase the number of iterations (max_iter) or scale the data as shown in:\n",
            "    https://scikit-learn.org/stable/modules/preprocessing.html\n",
            "Please also refer to the documentation for alternative solver options:\n",
            "    https://scikit-learn.org/stable/modules/linear_model.html#logistic-regression\n",
            "  extra_warning_msg=_LOGISTIC_SOLVER_CONVERGENCE_MSG)\n"
          ],
          "name": "stderr"
        },
        {
          "output_type": "execute_result",
          "data": {
            "text/plain": [
              "LogisticRegression(C=1.0, class_weight=None, dual=False, fit_intercept=True,\n",
              "                   intercept_scaling=1, l1_ratio=None, max_iter=100,\n",
              "                   multi_class='auto', n_jobs=None, penalty='l2',\n",
              "                   random_state=None, solver='lbfgs', tol=0.0001, verbose=0,\n",
              "                   warm_start=False)"
            ]
          },
          "metadata": {
            "tags": []
          },
          "execution_count": 20
        }
      ]
    },
    {
      "cell_type": "code",
      "metadata": {
        "id": "2-vET0ayfRGr",
        "colab": {
          "base_uri": "https://localhost:8080/"
        },
        "outputId": "7b253648-774b-429f-aec5-c7cba1a73e70"
      },
      "source": [
        "#Confusion Matrix\n",
        "import model_evaluation_utils as meu\n",
        "\n",
        "y_pred = logistic.predict(X_test)\n",
        "meu.display_confusion_matrix(true_labels=y_test, predicted_labels=y_pred,\n",
        "                            classes=[0,1])"
      ],
      "execution_count": 22,
      "outputs": [
        {
          "output_type": "stream",
          "text": [
            "          Predicted:     \n",
            "                   0    1\n",
            "Actual: 0         59    4\n",
            "        1          1  107\n"
          ],
          "name": "stdout"
        }
      ]
    },
    {
      "cell_type": "code",
      "metadata": {
        "id": "7VhAwdZ_vfMl"
      },
      "source": [
        "possitive_class = 1\n",
        "TP = 106\n",
        "FP = 4\n",
        "TN = 9\n",
        "FN = 2"
      ],
      "execution_count": 23,
      "outputs": []
    },
    {
      "cell_type": "markdown",
      "metadata": {
        "id": "TcpaqGx-vjBI"
      },
      "source": [
        "###Evaluating Classification Models"
      ]
    },
    {
      "cell_type": "code",
      "metadata": {
        "colab": {
          "base_uri": "https://localhost:8080/"
        },
        "id": "E8QYS0Clvn8Q",
        "outputId": "dc7f9e73-f234-4633-e90d-1bff00dc8886"
      },
      "source": [
        "fw_acc = round(meu.metrics.accuracy_score(y_true=y_test, y_pred=y_pred), 5)\n",
        "mc_acc = round((TP + TN) / (TP + TN + FP + FN), 5)\n",
        "print('Framework Accuracy:', fw_acc)\n",
        "print('Manually Computed Accuracy:', mc_acc)"
      ],
      "execution_count": 24,
      "outputs": [
        {
          "output_type": "stream",
          "text": [
            "Framework Accuracy: 0.97076\n",
            "Manually Computed Accuracy: 0.95041\n"
          ],
          "name": "stdout"
        }
      ]
    },
    {
      "cell_type": "code",
      "metadata": {
        "colab": {
          "base_uri": "https://localhost:8080/"
        },
        "id": "8x2LKWT6vqdd",
        "outputId": "041b09ba-d594-4aac-d219-5a638b60ddb3"
      },
      "source": [
        "fw_prec = round(meu.metrics.precision_score(y_true=y_test, y_pred=y_pred), 5)\n",
        "mc_prec = round((TP) / (TP + FP), 5)\n",
        "print('Framework Precision: ', fw_prec)\n",
        "print('Manually Computed Precision:', mc_prec)"
      ],
      "execution_count": 25,
      "outputs": [
        {
          "output_type": "stream",
          "text": [
            "Framework Precision:  0.96396\n",
            "Manually Computed Precision: 0.96364\n"
          ],
          "name": "stdout"
        }
      ]
    },
    {
      "cell_type": "code",
      "metadata": {
        "colab": {
          "base_uri": "https://localhost:8080/"
        },
        "id": "6X3SlkTKvtbm",
        "outputId": "0765b99c-6588-4e0c-d688-c2763c8275a7"
      },
      "source": [
        "fw_rec = round(meu.metrics.recall_score(y_true=y_test, y_pred=y_pred), 5)\n",
        "mc_rec = round((TP) / (TP + FN), 5)\n",
        "print('Framework Recall:', fw_rec)\n",
        "print('Manually Computed Recall:', mc_rec)"
      ],
      "execution_count": 26,
      "outputs": [
        {
          "output_type": "stream",
          "text": [
            "Framework Recall: 0.99074\n",
            "Manually Computed Recall: 0.98148\n"
          ],
          "name": "stdout"
        }
      ]
    },
    {
      "cell_type": "code",
      "metadata": {
        "colab": {
          "base_uri": "https://localhost:8080/"
        },
        "id": "z0deWSTjvwCu",
        "outputId": "50bbef24-e6cd-4c4b-9c09-4ecb3bdf1c7d"
      },
      "source": [
        "fw_f1 = round(meu.metrics.f1_score(y_true=y_test, y_pred=y_pred),5)\n",
        "mc_f1 = round((2*mc_prec*mc_rec) / (mc_prec+mc_rec),5)\n",
        "print('Framework F1-Score:', fw_f1)\n",
        "print('Manually Computed F1-Score:', mc_f1)"
      ],
      "execution_count": 27,
      "outputs": [
        {
          "output_type": "stream",
          "text": [
            "Framework F1-Score: 0.97717\n",
            "Manually Computed F1-Score: 0.97248\n"
          ],
          "name": "stdout"
        }
      ]
    },
    {
      "cell_type": "code",
      "metadata": {
        "colab": {
          "base_uri": "https://localhost:8080/",
          "height": 295
        },
        "id": "XaYkQ20qvyOc",
        "outputId": "a3174ea0-0232-4fc9-a484-91b5e7dfe469"
      },
      "source": [
        "meu.plot_model_roc_curve(clf=logistic, features=X_test, true_labels=y_test)"
      ],
      "execution_count": 28,
      "outputs": [
        {
          "output_type": "display_data",
          "data": {
            "image/png": "[encoded data removed]",
            "text/plain": [
              "<Figure size 432x288 with 1 Axes>"
            ]
          },
          "metadata": {
            "tags": [],
            "needs_background": "light"
          }
        }
      ]
    },
    {
      "cell_type": "markdown",
      "metadata": {
        "id": "OP4wcHN0v0Ho"
      },
      "source": [
        "###Evaluating Clustering Models"
      ]
    },
    {
      "cell_type": "code",
      "metadata": {
        "id": "sDj3W8M-v3RS"
      },
      "source": [
        "km2 = KMeans(n_clusters=2, random_state=42).fit(X)\n",
        "km2_labels = km2.labels_\n",
        "\n",
        "km5 = KMeans(n_clusters=5, random_state=42).fit(X)\n",
        "km5_labels = km5.labels_"
      ],
      "execution_count": 29,
      "outputs": []
    },
    {
      "cell_type": "markdown",
      "metadata": {
        "id": "4-wptCaFv5cM"
      },
      "source": [
        "###External Validation"
      ]
    },
    {
      "cell_type": "code",
      "metadata": {
        "colab": {
          "base_uri": "https://localhost:8080/"
        },
        "id": "IFmPqtZWv7zQ",
        "outputId": "a2b94a12-615f-4e81-d53d-a782ed2e5d98"
      },
      "source": [
        "km2_hcv = np.round(metrics.homogeneity_completeness_v_measure(y, km2_labels), 3)\n",
        "km5_hcv = np.round(metrics.homogeneity_completeness_v_measure(y, km5_labels), 3)\n",
        "\n",
        "print('Homogeneity, Completeness, V-measure metrics for num clusters=2: ', km2_hcv)\n",
        "print('Homogeneity, Completeness, V-measure metrics for num clusters=5: ', km5_hcv)"
      ],
      "execution_count": 30,
      "outputs": [
        {
          "output_type": "stream",
          "text": [
            "Homogeneity, Completeness, V-measure metrics for num clusters=2:  [0.422 0.517 0.465]\n",
            "Homogeneity, Completeness, V-measure metrics for num clusters=5:  [0.602 0.299 0.399]\n"
          ],
          "name": "stdout"
        }
      ]
    },
    {
      "cell_type": "markdown",
      "metadata": {
        "id": "s4vjWRLBv9gc"
      },
      "source": [
        "###Internal Validation"
      ]
    },
    {
      "cell_type": "code",
      "metadata": {
        "colab": {
          "base_uri": "https://localhost:8080/"
        },
        "id": "0BYd4xJjv_Iz",
        "outputId": "ceb5fafe-936a-49a2-b89c-220261afe1f2"
      },
      "source": [
        "from sklearn import metrics\n",
        "\n",
        "km2_silc = metrics.silhouette_score(X, km2_labels, metric='euclidean')\n",
        "km5_silc = metrics.silhouette_score(X, km5_labels, metric='euclidean')\n",
        "\n",
        "print('Silhouette Coefficient for num clusters=2: ', km2_silc)\n",
        "print('Silhouette Coefficient for num clusters=5: ', km5_silc)"
      ],
      "execution_count": 31,
      "outputs": [
        {
          "output_type": "stream",
          "text": [
            "Silhouette Coefficient for num clusters=2:  0.6972646156059464\n",
            "Silhouette Coefficient for num clusters=5:  0.5120588504057626\n"
          ],
          "name": "stdout"
        }
      ]
    },
    {
      "cell_type": "code",
      "metadata": {
        "id": "foNRmSy8wA3v"
      },
      "source": [
        "from sklearn.datasets import make_regression\n",
        "from sklearn.model_selection import cross_val_score\n",
        "from sklearn.linear_model import LinearRegression"
      ],
      "execution_count": 32,
      "outputs": []
    },
    {
      "cell_type": "code",
      "metadata": {
        "id": "xMo2RM9JwCB9"
      },
      "source": [
        "feature, target = make_regression(n_samples=100,\n",
        "                                 n_features=3,\n",
        "                                 n_informative=3,\n",
        "                                 n_targets=1,\n",
        "                                 noise=1,\n",
        "                                 coef=False,\n",
        "                                 random_state=1)"
      ],
      "execution_count": 33,
      "outputs": []
    },
    {
      "cell_type": "code",
      "metadata": {
        "id": "R2zmUW7IwCoh"
      },
      "source": [
        "ols = LinearRegression()"
      ],
      "execution_count": 34,
      "outputs": []
    },
    {
      "cell_type": "code",
      "metadata": {
        "colab": {
          "base_uri": "https://localhost:8080/"
        },
        "id": "3FoEbXEnwEmx",
        "outputId": "a8fa607b-4cd7-4ff9-a9fb-6900de5ea21d"
      },
      "source": [
        "cross_val_score(ols,feature,target,scoring='neg_mean_squared_error')"
      ],
      "execution_count": 35,
      "outputs": [
        {
          "output_type": "execute_result",
          "data": {
            "text/plain": [
              "array([-0.78986135, -0.80181655, -1.57407742, -0.42401745, -0.63949642])"
            ]
          },
          "metadata": {
            "tags": []
          },
          "execution_count": 35
        }
      ]
    },
    {
      "cell_type": "code",
      "metadata": {
        "colab": {
          "base_uri": "https://localhost:8080/"
        },
        "id": "osqsBc_YwFaV",
        "outputId": "497c4106-c22c-43d0-a978-fdc5a679ea00"
      },
      "source": [
        "cross_val_score(ols,feature,target,scoring='r2')"
      ],
      "execution_count": 36,
      "outputs": [
        {
          "output_type": "execute_result",
          "data": {
            "text/plain": [
              "array([0.99994298, 0.99991772, 0.99985451, 0.9999636 , 0.99991436])"
            ]
          },
          "metadata": {
            "tags": []
          },
          "execution_count": 36
        }
      ]
    },
    {
      "cell_type": "code",
      "metadata": {
        "colab": {
          "base_uri": "https://localhost:8080/"
        },
        "id": "d_u6i1i0wGk3",
        "outputId": "10052e98-2cf5-444d-c0bc-a87e52359553"
      },
      "source": [
        "from sklearn.model_selection import train_test_split\n",
        "from sklearn.svm import SVC\n",
        "\n",
        "X_train,X_test,y_train,y_test = train_test_split(X,y,test_size=0.3,random_state=42)\n",
        "\n",
        "def_svc = SVC(random_state=42)\n",
        "def_svc.fit(X_train,y_train)\n",
        "\n",
        "def_y_pred = def_svc.predict(X_test)\n",
        "print('Default Model States:')\n",
        "meu.display_model_performance_metrics(true_labels=y_test,predicted_labels=def_y_pred,classes=[0,1])"
      ],
      "execution_count": 37,
      "outputs": [
        {
          "output_type": "stream",
          "text": [
            "Default Model States:\n",
            "Model Performance metrics:\n",
            "------------------------------\n",
            "Accuracy: 0.9357\n",
            "Precision: 0.9416\n",
            "Recall: 0.9357\n",
            "F1 Score: 0.9342\n",
            "\n",
            "Model Classification report:\n",
            "------------------------------\n",
            "              precision    recall  f1-score   support\n",
            "\n",
            "           0       1.00      0.83      0.90        63\n",
            "           1       0.91      1.00      0.95       108\n",
            "\n",
            "    accuracy                           0.94       171\n",
            "   macro avg       0.95      0.91      0.93       171\n",
            "weighted avg       0.94      0.94      0.93       171\n",
            "\n",
            "\n",
            "Prediction Confusion Matrix:\n",
            "------------------------------\n",
            "          Predicted:     \n",
            "                   0    1\n",
            "Actual: 0         52   11\n",
            "        1          0  108\n"
          ],
          "name": "stdout"
        }
      ]
    },
    {
      "cell_type": "code",
      "metadata": {
        "colab": {
          "base_uri": "https://localhost:8080/"
        },
        "id": "1v2NV4vGwIFM",
        "outputId": "da88900a-6002-45cd-a1d4-9f5c514833e7"
      },
      "source": [
        "from sklearn.model_selection import GridSearchCV\n",
        "\n",
        "grid_parameters = {'kernel': ['linear','rbf'],\n",
        "                  'gamma': [1e-3,1e-4],\n",
        "                  'C': [1, 10, 50, 100]}\n",
        "print(\"# Tuning hyper-parameters for accuracy\\n\")\n",
        "clf = GridSearchCV(SVC(random_state=42),grid_parameters,cv=5,scoring='accuracy')\n",
        "clf.fit(X_train,y_train)\n",
        "print(\"Grid scores for all ther models based on CV:\\n\")\n",
        "means = clf.cv_results_['mean_test_score']\n",
        "stds = clf.cv_results_['std_test_score']\n",
        "for mean,std,params in zip (means,stds,clf.cv_results_['params']):\n",
        "    print(\"%0.5f (+/-%0.05f) for %r\" % (mean, std *2, params))\n",
        "    \n",
        "print(\"\\nBest parameters set found on development set:\",clf.best_params_)\n",
        "print(\"Best model validation accuracy:\", clf.best_score_)"
      ],
      "execution_count": 38,
      "outputs": [
        {
          "output_type": "stream",
          "text": [
            "# Tuning hyper-parameters for accuracy\n",
            "\n",
            "Grid scores for all ther models based on CV:\n",
            "\n",
            "0.95218 (+/-0.06256) for {'C': 1, 'gamma': 0.001, 'kernel': 'linear'}\n",
            "0.91193 (+/-0.04607) for {'C': 1, 'gamma': 0.001, 'kernel': 'rbf'}\n",
            "0.95218 (+/-0.06256) for {'C': 1, 'gamma': 0.0001, 'kernel': 'linear'}\n",
            "0.92459 (+/-0.02287) for {'C': 1, 'gamma': 0.0001, 'kernel': 'rbf'}\n",
            "0.96228 (+/-0.04244) for {'C': 10, 'gamma': 0.001, 'kernel': 'linear'}\n",
            "0.90187 (+/-0.04735) for {'C': 10, 'gamma': 0.001, 'kernel': 'rbf'}\n",
            "0.96228 (+/-0.04244) for {'C': 10, 'gamma': 0.0001, 'kernel': 'linear'}\n",
            "0.92959 (+/-0.03449) for {'C': 10, 'gamma': 0.0001, 'kernel': 'rbf'}\n",
            "0.95718 (+/-0.05923) for {'C': 50, 'gamma': 0.001, 'kernel': 'linear'}\n",
            "0.90187 (+/-0.04735) for {'C': 50, 'gamma': 0.001, 'kernel': 'rbf'}\n",
            "0.95718 (+/-0.05923) for {'C': 50, 'gamma': 0.0001, 'kernel': 'linear'}\n",
            "0.93462 (+/-0.02969) for {'C': 50, 'gamma': 0.0001, 'kernel': 'rbf'}\n",
            "0.95468 (+/-0.05703) for {'C': 100, 'gamma': 0.001, 'kernel': 'linear'}\n",
            "0.90187 (+/-0.04735) for {'C': 100, 'gamma': 0.001, 'kernel': 'rbf'}\n",
            "0.95468 (+/-0.05703) for {'C': 100, 'gamma': 0.0001, 'kernel': 'linear'}\n",
            "0.93209 (+/-0.04688) for {'C': 100, 'gamma': 0.0001, 'kernel': 'rbf'}\n",
            "\n",
            "Best parameters set found on development set: {'C': 10, 'gamma': 0.001, 'kernel': 'linear'}\n",
            "Best model validation accuracy: 0.9622784810126582\n"
          ],
          "name": "stdout"
        }
      ]
    },
    {
      "cell_type": "code",
      "metadata": {
        "colab": {
          "base_uri": "https://localhost:8080/"
        },
        "id": "b2VO_xYJwoTc",
        "outputId": "87f11bad-94a9-4fcb-df5c-a584253f670f"
      },
      "source": [
        "gs_best = clf.best_estimator_\n",
        "tuned_y_pred = gs_best.predict(X_test)\n",
        "\n",
        "print('\\n\\nTuned Model Stats:')\n",
        "meu.display_model_performance_metrics(true_labels=y_test,predicted_labels=tuned_y_pred,classes=[0,1])"
      ],
      "execution_count": 39,
      "outputs": [
        {
          "output_type": "stream",
          "text": [
            "\n",
            "\n",
            "Tuned Model Stats:\n",
            "Model Performance metrics:\n",
            "------------------------------\n",
            "Accuracy: 0.9708\n",
            "Precision: 0.9709\n",
            "Recall: 0.9708\n",
            "F1 Score: 0.9708\n",
            "\n",
            "Model Classification report:\n",
            "------------------------------\n",
            "              precision    recall  f1-score   support\n",
            "\n",
            "           0       0.95      0.97      0.96        63\n",
            "           1       0.98      0.97      0.98       108\n",
            "\n",
            "    accuracy                           0.97       171\n",
            "   macro avg       0.97      0.97      0.97       171\n",
            "weighted avg       0.97      0.97      0.97       171\n",
            "\n",
            "\n",
            "Prediction Confusion Matrix:\n",
            "------------------------------\n",
            "          Predicted:     \n",
            "                   0    1\n",
            "Actual: 0         61    2\n",
            "        1          3  105\n"
          ],
          "name": "stdout"
        }
      ]
    },
    {
      "cell_type": "code",
      "metadata": {
        "colab": {
          "base_uri": "https://localhost:8080/"
        },
        "id": "cqk7eIrWw2nl",
        "outputId": "09a27ce0-2fb0-4d2a-89d6-0db0d44071dd"
      },
      "source": [
        "import scipy\n",
        "from sklearn.model_selection import RandomizedSearchCV\n",
        "\n",
        "param_grid = {'C': scipy.stats.expon(scale=10),\n",
        "             'gamma': scipy.stats.expon(scale=1),\n",
        "             'kernel': ['rbf','linear']}\n",
        "\n",
        "random_search = RandomizedSearchCV (SVC(random_state=42), param_distributions=param_grid,\n",
        "                                  n_iter=50, cv=5)\n",
        "random_search.fit(X_train,y_train)\n",
        "print(\"Best parameters set found on development set: \")\n",
        "random_search.best_params_"
      ],
      "execution_count": 40,
      "outputs": [
        {
          "output_type": "stream",
          "text": [
            "Best parameters set found on development set: \n"
          ],
          "name": "stdout"
        },
        {
          "output_type": "execute_result",
          "data": {
            "text/plain": [
              "{'C': 12.160251072108817, 'gamma': 0.48019121096379064, 'kernel': 'linear'}"
            ]
          },
          "metadata": {
            "tags": []
          },
          "execution_count": 40
        }
      ]
    },
    {
      "cell_type": "code",
      "metadata": {
        "colab": {
          "base_uri": "https://localhost:8080/"
        },
        "id": "O7BCo4MRw7CD",
        "outputId": "ccda6c6f-4421-4eeb-d1fb-1d897a848666"
      },
      "source": [
        "rs_best = random_search.best_estimator_\n",
        "rs_y_pred = rs_best.predict(X_test)\n",
        "meu.get_metrics(true_labels=y_test,predicted_labels=rs_y_pred)"
      ],
      "execution_count": 41,
      "outputs": [
        {
          "output_type": "stream",
          "text": [
            "Accuracy: 0.9649\n",
            "Precision: 0.9649\n",
            "Recall: 0.9649\n",
            "F1 Score: 0.9649\n"
          ],
          "name": "stdout"
        }
      ]
    },
    {
      "cell_type": "code",
      "metadata": {
        "colab": {
          "base_uri": "https://localhost:8080/",
          "height": 128
        },
        "id": "se1mCfB_zmnL",
        "outputId": "0db6d4b9-4835-4bf1-a788-4ca4483f5636"
      },
      "source": [
        "conda install -c conda-forget skater"
      ],
      "execution_count": 52,
      "outputs": [
        {
          "output_type": "error",
          "ename": "SyntaxError",
          "evalue": "ignored",
          "traceback": [
            "\u001b[0;36m  File \u001b[0;32m\"<ipython-input-52-6d9c7b1f7f62>\"\u001b[0;36m, line \u001b[0;32m1\u001b[0m\n\u001b[0;31m    conda install -c conda-forget skater\u001b[0m\n\u001b[0m                ^\u001b[0m\n\u001b[0;31mSyntaxError\u001b[0m\u001b[0;31m:\u001b[0m invalid syntax\n"
          ]
        }
      ]
    },
    {
      "cell_type": "code",
      "metadata": {
        "colab": {
          "base_uri": "https://localhost:8080/",
          "height": 363
        },
        "id": "fXG1OwkFzsfy",
        "outputId": "f54e1b6b-6ed5-4e95-ad27-079e124937a6"
      },
      "source": [
        "from skater.core.explanations import Interpretation\n",
        "from skater.model import InMemoryModel\n",
        "\n",
        "interpreter = Interpretation(X_test, feature_names=data.feature_names)\n",
        "model = InMemoryModel(logistic.predict_proba, examples=X_train,\n",
        "                      target_names=logistic.classes_)"
      ],
      "execution_count": 53,
      "outputs": [
        {
          "output_type": "error",
          "ename": "ModuleNotFoundError",
          "evalue": "ignored",
          "traceback": [
            "\u001b[0;31m---------------------------------------------------------------------------\u001b[0m",
            "\u001b[0;31mModuleNotFoundError\u001b[0m                       Traceback (most recent call last)",
            "\u001b[0;32m<ipython-input-53-8a2d399e4286>\u001b[0m in \u001b[0;36m<module>\u001b[0;34m()\u001b[0m\n\u001b[0;32m----> 1\u001b[0;31m \u001b[0;32mfrom\u001b[0m \u001b[0mskater\u001b[0m\u001b[0;34m.\u001b[0m\u001b[0mcore\u001b[0m\u001b[0;34m.\u001b[0m\u001b[0mexplanations\u001b[0m \u001b[0;32mimport\u001b[0m \u001b[0mInterpretation\u001b[0m\u001b[0;34m\u001b[0m\u001b[0;34m\u001b[0m\u001b[0m\n\u001b[0m\u001b[1;32m      2\u001b[0m \u001b[0;32mfrom\u001b[0m \u001b[0mskater\u001b[0m\u001b[0;34m.\u001b[0m\u001b[0mmodel\u001b[0m \u001b[0;32mimport\u001b[0m \u001b[0mInMemoryModel\u001b[0m\u001b[0;34m\u001b[0m\u001b[0;34m\u001b[0m\u001b[0m\n\u001b[1;32m      3\u001b[0m \u001b[0;34m\u001b[0m\u001b[0m\n\u001b[1;32m      4\u001b[0m \u001b[0minterpreter\u001b[0m \u001b[0;34m=\u001b[0m \u001b[0mInterpretation\u001b[0m\u001b[0;34m(\u001b[0m\u001b[0mX_test\u001b[0m\u001b[0;34m,\u001b[0m \u001b[0mfeature_names\u001b[0m\u001b[0;34m=\u001b[0m\u001b[0mdata\u001b[0m\u001b[0;34m.\u001b[0m\u001b[0mfeature_names\u001b[0m\u001b[0;34m)\u001b[0m\u001b[0;34m\u001b[0m\u001b[0;34m\u001b[0m\u001b[0m\n\u001b[1;32m      5\u001b[0m model = InMemoryModel(logistic.predict_proba, examples=X_train,\n",
            "\u001b[0;31mModuleNotFoundError\u001b[0m: No module named 'skater'",
            "",
            "\u001b[0;31m---------------------------------------------------------------------------\u001b[0;32m\nNOTE: If your import is failing due to a missing package, you can\nmanually install dependencies using either !pip or !apt.\n\nTo view examples of installing some common dependencies, click the\n\"Open Examples\" button below.\n\u001b[0;31m---------------------------------------------------------------------------\u001b[0m\n"
          ]
        }
      ]
    },
    {
      "cell_type": "code",
      "metadata": {
        "colab": {
          "base_uri": "https://localhost:8080/",
          "height": 330
        },
        "id": "8XZ7DY63ztvq",
        "outputId": "b5736406-95ef-4f0c-ca07-cf5f12f789fc"
      },
      "source": [
        "from skater.core.local_interpretation.lime.lime_tabular import LimeTabularExplainer\n",
        "exp = LimeTabularExplainer (X_train, feature_names=data.feature_names,\n",
        "                           discretize_continuous=True, class_names=['0','1'])"
      ],
      "execution_count": 54,
      "outputs": [
        {
          "output_type": "error",
          "ename": "ModuleNotFoundError",
          "evalue": "ignored",
          "traceback": [
            "\u001b[0;31m---------------------------------------------------------------------------\u001b[0m",
            "\u001b[0;31mModuleNotFoundError\u001b[0m                       Traceback (most recent call last)",
            "\u001b[0;32m<ipython-input-54-c6e0f0c84ae3>\u001b[0m in \u001b[0;36m<module>\u001b[0;34m()\u001b[0m\n\u001b[0;32m----> 1\u001b[0;31m \u001b[0;32mfrom\u001b[0m \u001b[0mskater\u001b[0m\u001b[0;34m.\u001b[0m\u001b[0mcore\u001b[0m\u001b[0;34m.\u001b[0m\u001b[0mlocal_interpretation\u001b[0m\u001b[0;34m.\u001b[0m\u001b[0mlime\u001b[0m\u001b[0;34m.\u001b[0m\u001b[0mlime_tabular\u001b[0m \u001b[0;32mimport\u001b[0m \u001b[0mLimeTabularExplainer\u001b[0m\u001b[0;34m\u001b[0m\u001b[0;34m\u001b[0m\u001b[0m\n\u001b[0m\u001b[1;32m      2\u001b[0m exp = LimeTabularExplainer (X_train, feature_names=data.feature_names,\n\u001b[1;32m      3\u001b[0m                            discretize_continuous=True, class_names=['0','1'])\n",
            "\u001b[0;31mModuleNotFoundError\u001b[0m: No module named 'skater'",
            "",
            "\u001b[0;31m---------------------------------------------------------------------------\u001b[0;32m\nNOTE: If your import is failing due to a missing package, you can\nmanually install dependencies using either !pip or !apt.\n\nTo view examples of installing some common dependencies, click the\n\"Open Examples\" button below.\n\u001b[0;31m---------------------------------------------------------------------------\u001b[0m\n"
          ]
        }
      ]
    },
    {
      "cell_type": "code",
      "metadata": {
        "colab": {
          "base_uri": "https://localhost:8080/",
          "height": 162
        },
        "id": "v9eXBJ6Wzu_x",
        "outputId": "f50bb16e-8ca6-43c3-b42e-56c8763f07e3"
      },
      "source": [
        "exp.explain_instance(X_test[1],logistic.predict_proba).show_in_notebook()"
      ],
      "execution_count": null,
      "outputs": [
        {
          "output_type": "error",
          "ename": "NameError",
          "evalue": "ignored",
          "traceback": [
            "\u001b[0;31m---------------------------------------------------------------------------\u001b[0m",
            "\u001b[0;31mNameError\u001b[0m                                 Traceback (most recent call last)",
            "\u001b[0;32m<ipython-input-47-18df806cc8a9>\u001b[0m in \u001b[0;36m<module>\u001b[0;34m()\u001b[0m\n\u001b[0;32m----> 1\u001b[0;31m \u001b[0mexp\u001b[0m\u001b[0;34m.\u001b[0m\u001b[0mexplain_instance\u001b[0m\u001b[0;34m(\u001b[0m\u001b[0mX_test\u001b[0m\u001b[0;34m[\u001b[0m\u001b[0;36m1\u001b[0m\u001b[0;34m]\u001b[0m\u001b[0;34m,\u001b[0m\u001b[0mlogistic\u001b[0m\u001b[0;34m.\u001b[0m\u001b[0mpredict_proba\u001b[0m\u001b[0;34m)\u001b[0m\u001b[0;34m.\u001b[0m\u001b[0mshow_in_notebook\u001b[0m\u001b[0;34m(\u001b[0m\u001b[0;34m)\u001b[0m\u001b[0;34m\u001b[0m\u001b[0;34m\u001b[0m\u001b[0m\n\u001b[0m",
            "\u001b[0;31mNameError\u001b[0m: name 'exp' is not defined"
          ]
        }
      ]
    },
    {
      "cell_type": "code",
      "metadata": {
        "id": "L3pqSGALzwiU",
        "colab": {
          "base_uri": "https://localhost:8080/"
        },
        "outputId": "9b081e1e-ebda-49a0-8d4e-540b22d841bd"
      },
      "source": [
        "#Model Deployment\n",
        "\n",
        "from sklearn.externals import joblib\n",
        "joblib.dump(logistic,'lr_model.pkl')"
      ],
      "execution_count": 56,
      "outputs": [
        {
          "output_type": "execute_result",
          "data": {
            "text/plain": [
              "['lr_model.pkl']"
            ]
          },
          "metadata": {
            "tags": []
          },
          "execution_count": 56
        }
      ]
    },
    {
      "cell_type": "code",
      "metadata": {
        "id": "V-915Pimzxny",
        "colab": {
          "base_uri": "https://localhost:8080/"
        },
        "outputId": "1ba27e7f-8ba1-4ab8-c03f-21dbe4b07a86"
      },
      "source": [
        "lr=joblib.load('lr_model.pkl')\n",
        "lr"
      ],
      "execution_count": 57,
      "outputs": [
        {
          "output_type": "execute_result",
          "data": {
            "text/plain": [
              "LogisticRegression(C=1.0, class_weight=None, dual=False, fit_intercept=True,\n",
              "                   intercept_scaling=1, l1_ratio=None, max_iter=100,\n",
              "                   multi_class='auto', n_jobs=None, penalty='l2',\n",
              "                   random_state=None, solver='lbfgs', tol=0.0001, verbose=0,\n",
              "                   warm_start=False)"
            ]
          },
          "metadata": {
            "tags": []
          },
          "execution_count": 57
        }
      ]
    },
    {
      "cell_type": "code",
      "metadata": {
        "id": "CWh6RlyczyyI",
        "colab": {
          "base_uri": "https://localhost:8080/"
        },
        "outputId": "60f5bcd7-fdce-4b0e-edd6-abff98ee2bd3"
      },
      "source": [
        "print(lr.predict(X_test[10:11]),y_test[10:11])"
      ],
      "execution_count": 58,
      "outputs": [
        {
          "output_type": "stream",
          "text": [
            "[1] [1]\n"
          ],
          "name": "stdout"
        }
      ]
    }
  ]
}